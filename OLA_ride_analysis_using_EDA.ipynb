{
  "nbformat": 4,
  "nbformat_minor": 0,
  "metadata": {
    "colab": {
      "provenance": []
    },
    "kernelspec": {
      "name": "python3",
      "display_name": "Python 3"
    },
    "language_info": {
      "name": "python"
    }
  },
  "cells": [
    {
      "cell_type": "markdown",
      "source": [
        "# **OLA Ride Insights**"
      ],
      "metadata": {
        "id": "hbSsuZ-i75hx"
      }
    },
    {
      "cell_type": "markdown",
      "source": [
        "## **Project Summary**\n",
        "\n",
        "This project analyzes OLA ride booking data to understand ride patterns, cancellations, payments, and ratings.  The goal is to clean and explore the dataset, answer business questions (via SQL queries), and visualize insights for better decision-making."
      ],
      "metadata": {
        "id": "J32nruBp8A2v"
      }
    },
    {
      "cell_type": "markdown",
      "source": [
        "# **Problem Statement**\n",
        "\n",
        "The dataset contains ride details such as booking status, vehicle type, payment method, ratings, and ride distance.  \n",
        "\n",
        "Challenges include missing values, inconsistent text formats, and the need for summary insights.\n",
        "\n",
        "We will:\n",
        "- Perform **data wrangling & cleaning**  \n",
        "- Explore trends with **visualizations**   "
      ],
      "metadata": {
        "id": "rUrWmGcq8GIB"
      }
    },
    {
      "cell_type": "markdown",
      "source": [
        "# **Github repo link-**\n",
        "https://github.com/Drishanv/Ola-ride-analysis--SQL-and-Power"
      ],
      "metadata": {
        "id": "EhpQu03kP1Mu"
      }
    },
    {
      "cell_type": "markdown",
      "source": [
        "# **Import Libraries**"
      ],
      "metadata": {
        "id": "5TRVbP508SG4"
      }
    },
    {
      "cell_type": "code",
      "source": [
        "import pandas as pd\n",
        "import numpy as np\n",
        "import matplotlib.pyplot as plt\n",
        "import seaborn as sns"
      ],
      "metadata": {
        "id": "RSdAXeZP8ZVL"
      },
      "execution_count": null,
      "outputs": []
    },
    {
      "cell_type": "markdown",
      "source": [
        "# **Load Dataset**"
      ],
      "metadata": {
        "id": "8gbDjV9n8sPx"
      }
    },
    {
      "cell_type": "code",
      "source": [
        "df = pd.read_excel(\"/content/OLA_DataSet.xlsx\")"
      ],
      "metadata": {
        "id": "sgMsLUZa8r-Y"
      },
      "execution_count": null,
      "outputs": []
    },
    {
      "cell_type": "markdown",
      "source": [
        "# **Checking the first 5 columns of data**"
      ],
      "metadata": {
        "id": "-W18v09t9pIH"
      }
    },
    {
      "cell_type": "code",
      "source": [
        "df.head()"
      ],
      "metadata": {
        "colab": {
          "base_uri": "https://localhost:8080/",
          "height": 400
        },
        "id": "rKp3FDvl9uNv",
        "outputId": "fbc029fd-eb92-4eec-9767-467c8e51fe03"
      },
      "execution_count": null,
      "outputs": [
        {
          "output_type": "execute_result",
          "data": {
            "text/plain": [
              "                 Date      Time     Booking_ID        Booking_Status  \\\n",
              "0 2024-07-26 14:00:00  14:00:00  CNR7153255142    Canceled by Driver   \n",
              "1 2024-07-25 22:20:00  22:20:00  CNR2940424040               Success   \n",
              "2 2024-07-30 19:59:00  19:59:00  CNR2982357879               Success   \n",
              "3 2024-07-22 03:15:00  03:15:00  CNR2395710036  Canceled by Customer   \n",
              "4 2024-07-02 09:02:00  09:02:00  CNR1797421769               Success   \n",
              "\n",
              "  Customer_ID Vehicle_Type Pickup_Location Drop_Location  V_TAT  C_TAT  \\\n",
              "0   CID713523  Prime Sedan     Tumkur Road      RT Nagar    NaN    NaN   \n",
              "1   CID225428         Bike     Magadi Road       Varthur  203.0   30.0   \n",
              "2   CID270156    Prime SUV   Sahakar Nagar       Varthur  238.0  130.0   \n",
              "3   CID581320        eBike      HSR Layout   Vijayanagar    NaN    NaN   \n",
              "4   CID939555         Mini     Rajajinagar   Chamarajpet  252.0   80.0   \n",
              "\n",
              "                     Canceled_Rides_by_Customer      Canceled_Rides_by_Driver  \\\n",
              "0                                           NaN  Personal & Car related issue   \n",
              "1                                           NaN                           NaN   \n",
              "2                                           NaN                           NaN   \n",
              "3  Driver is not moving towards pickup location                           NaN   \n",
              "4                                           NaN                           NaN   \n",
              "\n",
              "  Incomplete_Rides Incomplete_Rides_Reason  Booking_Value Payment_Method  \\\n",
              "0              NaN                     NaN            444            NaN   \n",
              "1               No                     NaN            158           Cash   \n",
              "2               No                     NaN            386            UPI   \n",
              "3              NaN                     NaN            384            NaN   \n",
              "4               No                     NaN            822    Credit Card   \n",
              "\n",
              "   Ride_Distance  Driver_Ratings  Customer_Rating  \\\n",
              "0              0             NaN              NaN   \n",
              "1             13             4.1              4.0   \n",
              "2             40             4.2              4.8   \n",
              "3              0             NaN              NaN   \n",
              "4             45             4.0              3.0   \n",
              "\n",
              "                                      Vehicle Images  \n",
              "0  https://cdn-icons-png.flaticon.com/128/14183/1...  \n",
              "1  https://cdn-icons-png.flaticon.com/128/9983/99...  \n",
              "2  https://cdn-icons-png.flaticon.com/128/9983/99...  \n",
              "3  https://cdn-icons-png.flaticon.com/128/6839/68...  \n",
              "4  https://cdn-icons-png.flaticon.com/128/3202/32...  "
            ],
            "text/html": [
              "\n",
              "  <div id=\"df-501dc26a-b14e-4909-9ca9-0672fb494726\" class=\"colab-df-container\">\n",
              "    <div>\n",
              "<style scoped>\n",
              "    .dataframe tbody tr th:only-of-type {\n",
              "        vertical-align: middle;\n",
              "    }\n",
              "\n",
              "    .dataframe tbody tr th {\n",
              "        vertical-align: top;\n",
              "    }\n",
              "\n",
              "    .dataframe thead th {\n",
              "        text-align: right;\n",
              "    }\n",
              "</style>\n",
              "<table border=\"1\" class=\"dataframe\">\n",
              "  <thead>\n",
              "    <tr style=\"text-align: right;\">\n",
              "      <th></th>\n",
              "      <th>Date</th>\n",
              "      <th>Time</th>\n",
              "      <th>Booking_ID</th>\n",
              "      <th>Booking_Status</th>\n",
              "      <th>Customer_ID</th>\n",
              "      <th>Vehicle_Type</th>\n",
              "      <th>Pickup_Location</th>\n",
              "      <th>Drop_Location</th>\n",
              "      <th>V_TAT</th>\n",
              "      <th>C_TAT</th>\n",
              "      <th>Canceled_Rides_by_Customer</th>\n",
              "      <th>Canceled_Rides_by_Driver</th>\n",
              "      <th>Incomplete_Rides</th>\n",
              "      <th>Incomplete_Rides_Reason</th>\n",
              "      <th>Booking_Value</th>\n",
              "      <th>Payment_Method</th>\n",
              "      <th>Ride_Distance</th>\n",
              "      <th>Driver_Ratings</th>\n",
              "      <th>Customer_Rating</th>\n",
              "      <th>Vehicle Images</th>\n",
              "    </tr>\n",
              "  </thead>\n",
              "  <tbody>\n",
              "    <tr>\n",
              "      <th>0</th>\n",
              "      <td>2024-07-26 14:00:00</td>\n",
              "      <td>14:00:00</td>\n",
              "      <td>CNR7153255142</td>\n",
              "      <td>Canceled by Driver</td>\n",
              "      <td>CID713523</td>\n",
              "      <td>Prime Sedan</td>\n",
              "      <td>Tumkur Road</td>\n",
              "      <td>RT Nagar</td>\n",
              "      <td>NaN</td>\n",
              "      <td>NaN</td>\n",
              "      <td>NaN</td>\n",
              "      <td>Personal &amp; Car related issue</td>\n",
              "      <td>NaN</td>\n",
              "      <td>NaN</td>\n",
              "      <td>444</td>\n",
              "      <td>NaN</td>\n",
              "      <td>0</td>\n",
              "      <td>NaN</td>\n",
              "      <td>NaN</td>\n",
              "      <td>https://cdn-icons-png.flaticon.com/128/14183/1...</td>\n",
              "    </tr>\n",
              "    <tr>\n",
              "      <th>1</th>\n",
              "      <td>2024-07-25 22:20:00</td>\n",
              "      <td>22:20:00</td>\n",
              "      <td>CNR2940424040</td>\n",
              "      <td>Success</td>\n",
              "      <td>CID225428</td>\n",
              "      <td>Bike</td>\n",
              "      <td>Magadi Road</td>\n",
              "      <td>Varthur</td>\n",
              "      <td>203.0</td>\n",
              "      <td>30.0</td>\n",
              "      <td>NaN</td>\n",
              "      <td>NaN</td>\n",
              "      <td>No</td>\n",
              "      <td>NaN</td>\n",
              "      <td>158</td>\n",
              "      <td>Cash</td>\n",
              "      <td>13</td>\n",
              "      <td>4.1</td>\n",
              "      <td>4.0</td>\n",
              "      <td>https://cdn-icons-png.flaticon.com/128/9983/99...</td>\n",
              "    </tr>\n",
              "    <tr>\n",
              "      <th>2</th>\n",
              "      <td>2024-07-30 19:59:00</td>\n",
              "      <td>19:59:00</td>\n",
              "      <td>CNR2982357879</td>\n",
              "      <td>Success</td>\n",
              "      <td>CID270156</td>\n",
              "      <td>Prime SUV</td>\n",
              "      <td>Sahakar Nagar</td>\n",
              "      <td>Varthur</td>\n",
              "      <td>238.0</td>\n",
              "      <td>130.0</td>\n",
              "      <td>NaN</td>\n",
              "      <td>NaN</td>\n",
              "      <td>No</td>\n",
              "      <td>NaN</td>\n",
              "      <td>386</td>\n",
              "      <td>UPI</td>\n",
              "      <td>40</td>\n",
              "      <td>4.2</td>\n",
              "      <td>4.8</td>\n",
              "      <td>https://cdn-icons-png.flaticon.com/128/9983/99...</td>\n",
              "    </tr>\n",
              "    <tr>\n",
              "      <th>3</th>\n",
              "      <td>2024-07-22 03:15:00</td>\n",
              "      <td>03:15:00</td>\n",
              "      <td>CNR2395710036</td>\n",
              "      <td>Canceled by Customer</td>\n",
              "      <td>CID581320</td>\n",
              "      <td>eBike</td>\n",
              "      <td>HSR Layout</td>\n",
              "      <td>Vijayanagar</td>\n",
              "      <td>NaN</td>\n",
              "      <td>NaN</td>\n",
              "      <td>Driver is not moving towards pickup location</td>\n",
              "      <td>NaN</td>\n",
              "      <td>NaN</td>\n",
              "      <td>NaN</td>\n",
              "      <td>384</td>\n",
              "      <td>NaN</td>\n",
              "      <td>0</td>\n",
              "      <td>NaN</td>\n",
              "      <td>NaN</td>\n",
              "      <td>https://cdn-icons-png.flaticon.com/128/6839/68...</td>\n",
              "    </tr>\n",
              "    <tr>\n",
              "      <th>4</th>\n",
              "      <td>2024-07-02 09:02:00</td>\n",
              "      <td>09:02:00</td>\n",
              "      <td>CNR1797421769</td>\n",
              "      <td>Success</td>\n",
              "      <td>CID939555</td>\n",
              "      <td>Mini</td>\n",
              "      <td>Rajajinagar</td>\n",
              "      <td>Chamarajpet</td>\n",
              "      <td>252.0</td>\n",
              "      <td>80.0</td>\n",
              "      <td>NaN</td>\n",
              "      <td>NaN</td>\n",
              "      <td>No</td>\n",
              "      <td>NaN</td>\n",
              "      <td>822</td>\n",
              "      <td>Credit Card</td>\n",
              "      <td>45</td>\n",
              "      <td>4.0</td>\n",
              "      <td>3.0</td>\n",
              "      <td>https://cdn-icons-png.flaticon.com/128/3202/32...</td>\n",
              "    </tr>\n",
              "  </tbody>\n",
              "</table>\n",
              "</div>\n",
              "    <div class=\"colab-df-buttons\">\n",
              "\n",
              "  <div class=\"colab-df-container\">\n",
              "    <button class=\"colab-df-convert\" onclick=\"convertToInteractive('df-501dc26a-b14e-4909-9ca9-0672fb494726')\"\n",
              "            title=\"Convert this dataframe to an interactive table.\"\n",
              "            style=\"display:none;\">\n",
              "\n",
              "  <svg xmlns=\"http://www.w3.org/2000/svg\" height=\"24px\" viewBox=\"0 -960 960 960\">\n",
              "    <path d=\"M120-120v-720h720v720H120Zm60-500h600v-160H180v160Zm220 220h160v-160H400v160Zm0 220h160v-160H400v160ZM180-400h160v-160H180v160Zm440 0h160v-160H620v160ZM180-180h160v-160H180v160Zm440 0h160v-160H620v160Z\"/>\n",
              "  </svg>\n",
              "    </button>\n",
              "\n",
              "  <style>\n",
              "    .colab-df-container {\n",
              "      display:flex;\n",
              "      gap: 12px;\n",
              "    }\n",
              "\n",
              "    .colab-df-convert {\n",
              "      background-color: #E8F0FE;\n",
              "      border: none;\n",
              "      border-radius: 50%;\n",
              "      cursor: pointer;\n",
              "      display: none;\n",
              "      fill: #1967D2;\n",
              "      height: 32px;\n",
              "      padding: 0 0 0 0;\n",
              "      width: 32px;\n",
              "    }\n",
              "\n",
              "    .colab-df-convert:hover {\n",
              "      background-color: #E2EBFA;\n",
              "      box-shadow: 0px 1px 2px rgba(60, 64, 67, 0.3), 0px 1px 3px 1px rgba(60, 64, 67, 0.15);\n",
              "      fill: #174EA6;\n",
              "    }\n",
              "\n",
              "    .colab-df-buttons div {\n",
              "      margin-bottom: 4px;\n",
              "    }\n",
              "\n",
              "    [theme=dark] .colab-df-convert {\n",
              "      background-color: #3B4455;\n",
              "      fill: #D2E3FC;\n",
              "    }\n",
              "\n",
              "    [theme=dark] .colab-df-convert:hover {\n",
              "      background-color: #434B5C;\n",
              "      box-shadow: 0px 1px 3px 1px rgba(0, 0, 0, 0.15);\n",
              "      filter: drop-shadow(0px 1px 2px rgba(0, 0, 0, 0.3));\n",
              "      fill: #FFFFFF;\n",
              "    }\n",
              "  </style>\n",
              "\n",
              "    <script>\n",
              "      const buttonEl =\n",
              "        document.querySelector('#df-501dc26a-b14e-4909-9ca9-0672fb494726 button.colab-df-convert');\n",
              "      buttonEl.style.display =\n",
              "        google.colab.kernel.accessAllowed ? 'block' : 'none';\n",
              "\n",
              "      async function convertToInteractive(key) {\n",
              "        const element = document.querySelector('#df-501dc26a-b14e-4909-9ca9-0672fb494726');\n",
              "        const dataTable =\n",
              "          await google.colab.kernel.invokeFunction('convertToInteractive',\n",
              "                                                    [key], {});\n",
              "        if (!dataTable) return;\n",
              "\n",
              "        const docLinkHtml = 'Like what you see? Visit the ' +\n",
              "          '<a target=\"_blank\" href=https://colab.research.google.com/notebooks/data_table.ipynb>data table notebook</a>'\n",
              "          + ' to learn more about interactive tables.';\n",
              "        element.innerHTML = '';\n",
              "        dataTable['output_type'] = 'display_data';\n",
              "        await google.colab.output.renderOutput(dataTable, element);\n",
              "        const docLink = document.createElement('div');\n",
              "        docLink.innerHTML = docLinkHtml;\n",
              "        element.appendChild(docLink);\n",
              "      }\n",
              "    </script>\n",
              "  </div>\n",
              "\n",
              "\n",
              "    <div id=\"df-31a7a979-a221-4957-b33a-0cb4e9b227fd\">\n",
              "      <button class=\"colab-df-quickchart\" onclick=\"quickchart('df-31a7a979-a221-4957-b33a-0cb4e9b227fd')\"\n",
              "                title=\"Suggest charts\"\n",
              "                style=\"display:none;\">\n",
              "\n",
              "<svg xmlns=\"http://www.w3.org/2000/svg\" height=\"24px\"viewBox=\"0 0 24 24\"\n",
              "     width=\"24px\">\n",
              "    <g>\n",
              "        <path d=\"M19 3H5c-1.1 0-2 .9-2 2v14c0 1.1.9 2 2 2h14c1.1 0 2-.9 2-2V5c0-1.1-.9-2-2-2zM9 17H7v-7h2v7zm4 0h-2V7h2v10zm4 0h-2v-4h2v4z\"/>\n",
              "    </g>\n",
              "</svg>\n",
              "      </button>\n",
              "\n",
              "<style>\n",
              "  .colab-df-quickchart {\n",
              "      --bg-color: #E8F0FE;\n",
              "      --fill-color: #1967D2;\n",
              "      --hover-bg-color: #E2EBFA;\n",
              "      --hover-fill-color: #174EA6;\n",
              "      --disabled-fill-color: #AAA;\n",
              "      --disabled-bg-color: #DDD;\n",
              "  }\n",
              "\n",
              "  [theme=dark] .colab-df-quickchart {\n",
              "      --bg-color: #3B4455;\n",
              "      --fill-color: #D2E3FC;\n",
              "      --hover-bg-color: #434B5C;\n",
              "      --hover-fill-color: #FFFFFF;\n",
              "      --disabled-bg-color: #3B4455;\n",
              "      --disabled-fill-color: #666;\n",
              "  }\n",
              "\n",
              "  .colab-df-quickchart {\n",
              "    background-color: var(--bg-color);\n",
              "    border: none;\n",
              "    border-radius: 50%;\n",
              "    cursor: pointer;\n",
              "    display: none;\n",
              "    fill: var(--fill-color);\n",
              "    height: 32px;\n",
              "    padding: 0;\n",
              "    width: 32px;\n",
              "  }\n",
              "\n",
              "  .colab-df-quickchart:hover {\n",
              "    background-color: var(--hover-bg-color);\n",
              "    box-shadow: 0 1px 2px rgba(60, 64, 67, 0.3), 0 1px 3px 1px rgba(60, 64, 67, 0.15);\n",
              "    fill: var(--button-hover-fill-color);\n",
              "  }\n",
              "\n",
              "  .colab-df-quickchart-complete:disabled,\n",
              "  .colab-df-quickchart-complete:disabled:hover {\n",
              "    background-color: var(--disabled-bg-color);\n",
              "    fill: var(--disabled-fill-color);\n",
              "    box-shadow: none;\n",
              "  }\n",
              "\n",
              "  .colab-df-spinner {\n",
              "    border: 2px solid var(--fill-color);\n",
              "    border-color: transparent;\n",
              "    border-bottom-color: var(--fill-color);\n",
              "    animation:\n",
              "      spin 1s steps(1) infinite;\n",
              "  }\n",
              "\n",
              "  @keyframes spin {\n",
              "    0% {\n",
              "      border-color: transparent;\n",
              "      border-bottom-color: var(--fill-color);\n",
              "      border-left-color: var(--fill-color);\n",
              "    }\n",
              "    20% {\n",
              "      border-color: transparent;\n",
              "      border-left-color: var(--fill-color);\n",
              "      border-top-color: var(--fill-color);\n",
              "    }\n",
              "    30% {\n",
              "      border-color: transparent;\n",
              "      border-left-color: var(--fill-color);\n",
              "      border-top-color: var(--fill-color);\n",
              "      border-right-color: var(--fill-color);\n",
              "    }\n",
              "    40% {\n",
              "      border-color: transparent;\n",
              "      border-right-color: var(--fill-color);\n",
              "      border-top-color: var(--fill-color);\n",
              "    }\n",
              "    60% {\n",
              "      border-color: transparent;\n",
              "      border-right-color: var(--fill-color);\n",
              "    }\n",
              "    80% {\n",
              "      border-color: transparent;\n",
              "      border-right-color: var(--fill-color);\n",
              "      border-bottom-color: var(--fill-color);\n",
              "    }\n",
              "    90% {\n",
              "      border-color: transparent;\n",
              "      border-bottom-color: var(--fill-color);\n",
              "    }\n",
              "  }\n",
              "</style>\n",
              "\n",
              "      <script>\n",
              "        async function quickchart(key) {\n",
              "          const quickchartButtonEl =\n",
              "            document.querySelector('#' + key + ' button');\n",
              "          quickchartButtonEl.disabled = true;  // To prevent multiple clicks.\n",
              "          quickchartButtonEl.classList.add('colab-df-spinner');\n",
              "          try {\n",
              "            const charts = await google.colab.kernel.invokeFunction(\n",
              "                'suggestCharts', [key], {});\n",
              "          } catch (error) {\n",
              "            console.error('Error during call to suggestCharts:', error);\n",
              "          }\n",
              "          quickchartButtonEl.classList.remove('colab-df-spinner');\n",
              "          quickchartButtonEl.classList.add('colab-df-quickchart-complete');\n",
              "        }\n",
              "        (() => {\n",
              "          let quickchartButtonEl =\n",
              "            document.querySelector('#df-31a7a979-a221-4957-b33a-0cb4e9b227fd button');\n",
              "          quickchartButtonEl.style.display =\n",
              "            google.colab.kernel.accessAllowed ? 'block' : 'none';\n",
              "        })();\n",
              "      </script>\n",
              "    </div>\n",
              "\n",
              "    </div>\n",
              "  </div>\n"
            ],
            "application/vnd.google.colaboratory.intrinsic+json": {
              "type": "dataframe",
              "variable_name": "df"
            }
          },
          "metadata": {},
          "execution_count": 5
        }
      ]
    },
    {
      "cell_type": "markdown",
      "source": [
        "# **Checking the Shape of dataframe**"
      ],
      "metadata": {
        "id": "jUn1Oz1C9zKx"
      }
    },
    {
      "cell_type": "code",
      "source": [
        "df.shape"
      ],
      "metadata": {
        "colab": {
          "base_uri": "https://localhost:8080/"
        },
        "id": "oRHK5PwI92-U",
        "outputId": "90e4ad29-c74c-4b8e-d16a-9ed3a8b2e38b"
      },
      "execution_count": null,
      "outputs": [
        {
          "output_type": "execute_result",
          "data": {
            "text/plain": [
              "(103024, 20)"
            ]
          },
          "metadata": {},
          "execution_count": 7
        }
      ]
    },
    {
      "cell_type": "markdown",
      "source": [
        "## **Data Cleaning**"
      ],
      "metadata": {
        "id": "6-Ag-KUt-eTv"
      }
    },
    {
      "cell_type": "code",
      "source": [
        "#Standardize column names\n",
        "\n",
        "def to_snake(s):\n",
        "    return (str(s).strip()\n",
        "            .replace('-', ' ').replace('/', ' ')\n",
        "            .replace('.', ' ').replace('(', ' ').replace(')', ' ')\n",
        "            .replace('__', '_')\n",
        "            .lower().replace(' ', '_'))\n",
        "\n",
        "df.columns = [to_snake(c) for c in df.columns]\n",
        "df.head()"
      ],
      "metadata": {
        "colab": {
          "base_uri": "https://localhost:8080/",
          "height": 400
        },
        "id": "xisolu3A-hZf",
        "outputId": "8e816892-5479-4ec7-ba1d-26e27a6a40e3"
      },
      "execution_count": null,
      "outputs": [
        {
          "output_type": "execute_result",
          "data": {
            "text/plain": [
              "                 date      time     booking_id        booking_status  \\\n",
              "0 2024-07-26 14:00:00  14:00:00  CNR7153255142    Canceled by Driver   \n",
              "1 2024-07-25 22:20:00  22:20:00  CNR2940424040               Success   \n",
              "2 2024-07-30 19:59:00  19:59:00  CNR2982357879               Success   \n",
              "3 2024-07-22 03:15:00  03:15:00  CNR2395710036  Canceled by Customer   \n",
              "4 2024-07-02 09:02:00  09:02:00  CNR1797421769               Success   \n",
              "\n",
              "  customer_id vehicle_type pickup_location drop_location  v_tat  c_tat  \\\n",
              "0   CID713523  Prime Sedan     Tumkur Road      RT Nagar    NaN    NaN   \n",
              "1   CID225428         Bike     Magadi Road       Varthur  203.0   30.0   \n",
              "2   CID270156    Prime SUV   Sahakar Nagar       Varthur  238.0  130.0   \n",
              "3   CID581320        eBike      HSR Layout   Vijayanagar    NaN    NaN   \n",
              "4   CID939555         Mini     Rajajinagar   Chamarajpet  252.0   80.0   \n",
              "\n",
              "                     canceled_rides_by_customer      canceled_rides_by_driver  \\\n",
              "0                                           NaN  Personal & Car related issue   \n",
              "1                                           NaN                           NaN   \n",
              "2                                           NaN                           NaN   \n",
              "3  Driver is not moving towards pickup location                           NaN   \n",
              "4                                           NaN                           NaN   \n",
              "\n",
              "  incomplete_rides incomplete_rides_reason  booking_value payment_method  \\\n",
              "0              NaN                     NaN            444            NaN   \n",
              "1               No                     NaN            158           Cash   \n",
              "2               No                     NaN            386            UPI   \n",
              "3              NaN                     NaN            384            NaN   \n",
              "4               No                     NaN            822    Credit Card   \n",
              "\n",
              "   ride_distance  driver_ratings  customer_rating  \\\n",
              "0              0             NaN              NaN   \n",
              "1             13             4.1              4.0   \n",
              "2             40             4.2              4.8   \n",
              "3              0             NaN              NaN   \n",
              "4             45             4.0              3.0   \n",
              "\n",
              "                                      vehicle_images  \n",
              "0  https://cdn-icons-png.flaticon.com/128/14183/1...  \n",
              "1  https://cdn-icons-png.flaticon.com/128/9983/99...  \n",
              "2  https://cdn-icons-png.flaticon.com/128/9983/99...  \n",
              "3  https://cdn-icons-png.flaticon.com/128/6839/68...  \n",
              "4  https://cdn-icons-png.flaticon.com/128/3202/32...  "
            ],
            "text/html": [
              "\n",
              "  <div id=\"df-81739cbd-846a-49ef-86c3-2aae9b547fa5\" class=\"colab-df-container\">\n",
              "    <div>\n",
              "<style scoped>\n",
              "    .dataframe tbody tr th:only-of-type {\n",
              "        vertical-align: middle;\n",
              "    }\n",
              "\n",
              "    .dataframe tbody tr th {\n",
              "        vertical-align: top;\n",
              "    }\n",
              "\n",
              "    .dataframe thead th {\n",
              "        text-align: right;\n",
              "    }\n",
              "</style>\n",
              "<table border=\"1\" class=\"dataframe\">\n",
              "  <thead>\n",
              "    <tr style=\"text-align: right;\">\n",
              "      <th></th>\n",
              "      <th>date</th>\n",
              "      <th>time</th>\n",
              "      <th>booking_id</th>\n",
              "      <th>booking_status</th>\n",
              "      <th>customer_id</th>\n",
              "      <th>vehicle_type</th>\n",
              "      <th>pickup_location</th>\n",
              "      <th>drop_location</th>\n",
              "      <th>v_tat</th>\n",
              "      <th>c_tat</th>\n",
              "      <th>canceled_rides_by_customer</th>\n",
              "      <th>canceled_rides_by_driver</th>\n",
              "      <th>incomplete_rides</th>\n",
              "      <th>incomplete_rides_reason</th>\n",
              "      <th>booking_value</th>\n",
              "      <th>payment_method</th>\n",
              "      <th>ride_distance</th>\n",
              "      <th>driver_ratings</th>\n",
              "      <th>customer_rating</th>\n",
              "      <th>vehicle_images</th>\n",
              "    </tr>\n",
              "  </thead>\n",
              "  <tbody>\n",
              "    <tr>\n",
              "      <th>0</th>\n",
              "      <td>2024-07-26 14:00:00</td>\n",
              "      <td>14:00:00</td>\n",
              "      <td>CNR7153255142</td>\n",
              "      <td>Canceled by Driver</td>\n",
              "      <td>CID713523</td>\n",
              "      <td>Prime Sedan</td>\n",
              "      <td>Tumkur Road</td>\n",
              "      <td>RT Nagar</td>\n",
              "      <td>NaN</td>\n",
              "      <td>NaN</td>\n",
              "      <td>NaN</td>\n",
              "      <td>Personal &amp; Car related issue</td>\n",
              "      <td>NaN</td>\n",
              "      <td>NaN</td>\n",
              "      <td>444</td>\n",
              "      <td>NaN</td>\n",
              "      <td>0</td>\n",
              "      <td>NaN</td>\n",
              "      <td>NaN</td>\n",
              "      <td>https://cdn-icons-png.flaticon.com/128/14183/1...</td>\n",
              "    </tr>\n",
              "    <tr>\n",
              "      <th>1</th>\n",
              "      <td>2024-07-25 22:20:00</td>\n",
              "      <td>22:20:00</td>\n",
              "      <td>CNR2940424040</td>\n",
              "      <td>Success</td>\n",
              "      <td>CID225428</td>\n",
              "      <td>Bike</td>\n",
              "      <td>Magadi Road</td>\n",
              "      <td>Varthur</td>\n",
              "      <td>203.0</td>\n",
              "      <td>30.0</td>\n",
              "      <td>NaN</td>\n",
              "      <td>NaN</td>\n",
              "      <td>No</td>\n",
              "      <td>NaN</td>\n",
              "      <td>158</td>\n",
              "      <td>Cash</td>\n",
              "      <td>13</td>\n",
              "      <td>4.1</td>\n",
              "      <td>4.0</td>\n",
              "      <td>https://cdn-icons-png.flaticon.com/128/9983/99...</td>\n",
              "    </tr>\n",
              "    <tr>\n",
              "      <th>2</th>\n",
              "      <td>2024-07-30 19:59:00</td>\n",
              "      <td>19:59:00</td>\n",
              "      <td>CNR2982357879</td>\n",
              "      <td>Success</td>\n",
              "      <td>CID270156</td>\n",
              "      <td>Prime SUV</td>\n",
              "      <td>Sahakar Nagar</td>\n",
              "      <td>Varthur</td>\n",
              "      <td>238.0</td>\n",
              "      <td>130.0</td>\n",
              "      <td>NaN</td>\n",
              "      <td>NaN</td>\n",
              "      <td>No</td>\n",
              "      <td>NaN</td>\n",
              "      <td>386</td>\n",
              "      <td>UPI</td>\n",
              "      <td>40</td>\n",
              "      <td>4.2</td>\n",
              "      <td>4.8</td>\n",
              "      <td>https://cdn-icons-png.flaticon.com/128/9983/99...</td>\n",
              "    </tr>\n",
              "    <tr>\n",
              "      <th>3</th>\n",
              "      <td>2024-07-22 03:15:00</td>\n",
              "      <td>03:15:00</td>\n",
              "      <td>CNR2395710036</td>\n",
              "      <td>Canceled by Customer</td>\n",
              "      <td>CID581320</td>\n",
              "      <td>eBike</td>\n",
              "      <td>HSR Layout</td>\n",
              "      <td>Vijayanagar</td>\n",
              "      <td>NaN</td>\n",
              "      <td>NaN</td>\n",
              "      <td>Driver is not moving towards pickup location</td>\n",
              "      <td>NaN</td>\n",
              "      <td>NaN</td>\n",
              "      <td>NaN</td>\n",
              "      <td>384</td>\n",
              "      <td>NaN</td>\n",
              "      <td>0</td>\n",
              "      <td>NaN</td>\n",
              "      <td>NaN</td>\n",
              "      <td>https://cdn-icons-png.flaticon.com/128/6839/68...</td>\n",
              "    </tr>\n",
              "    <tr>\n",
              "      <th>4</th>\n",
              "      <td>2024-07-02 09:02:00</td>\n",
              "      <td>09:02:00</td>\n",
              "      <td>CNR1797421769</td>\n",
              "      <td>Success</td>\n",
              "      <td>CID939555</td>\n",
              "      <td>Mini</td>\n",
              "      <td>Rajajinagar</td>\n",
              "      <td>Chamarajpet</td>\n",
              "      <td>252.0</td>\n",
              "      <td>80.0</td>\n",
              "      <td>NaN</td>\n",
              "      <td>NaN</td>\n",
              "      <td>No</td>\n",
              "      <td>NaN</td>\n",
              "      <td>822</td>\n",
              "      <td>Credit Card</td>\n",
              "      <td>45</td>\n",
              "      <td>4.0</td>\n",
              "      <td>3.0</td>\n",
              "      <td>https://cdn-icons-png.flaticon.com/128/3202/32...</td>\n",
              "    </tr>\n",
              "  </tbody>\n",
              "</table>\n",
              "</div>\n",
              "    <div class=\"colab-df-buttons\">\n",
              "\n",
              "  <div class=\"colab-df-container\">\n",
              "    <button class=\"colab-df-convert\" onclick=\"convertToInteractive('df-81739cbd-846a-49ef-86c3-2aae9b547fa5')\"\n",
              "            title=\"Convert this dataframe to an interactive table.\"\n",
              "            style=\"display:none;\">\n",
              "\n",
              "  <svg xmlns=\"http://www.w3.org/2000/svg\" height=\"24px\" viewBox=\"0 -960 960 960\">\n",
              "    <path d=\"M120-120v-720h720v720H120Zm60-500h600v-160H180v160Zm220 220h160v-160H400v160Zm0 220h160v-160H400v160ZM180-400h160v-160H180v160Zm440 0h160v-160H620v160ZM180-180h160v-160H180v160Zm440 0h160v-160H620v160Z\"/>\n",
              "  </svg>\n",
              "    </button>\n",
              "\n",
              "  <style>\n",
              "    .colab-df-container {\n",
              "      display:flex;\n",
              "      gap: 12px;\n",
              "    }\n",
              "\n",
              "    .colab-df-convert {\n",
              "      background-color: #E8F0FE;\n",
              "      border: none;\n",
              "      border-radius: 50%;\n",
              "      cursor: pointer;\n",
              "      display: none;\n",
              "      fill: #1967D2;\n",
              "      height: 32px;\n",
              "      padding: 0 0 0 0;\n",
              "      width: 32px;\n",
              "    }\n",
              "\n",
              "    .colab-df-convert:hover {\n",
              "      background-color: #E2EBFA;\n",
              "      box-shadow: 0px 1px 2px rgba(60, 64, 67, 0.3), 0px 1px 3px 1px rgba(60, 64, 67, 0.15);\n",
              "      fill: #174EA6;\n",
              "    }\n",
              "\n",
              "    .colab-df-buttons div {\n",
              "      margin-bottom: 4px;\n",
              "    }\n",
              "\n",
              "    [theme=dark] .colab-df-convert {\n",
              "      background-color: #3B4455;\n",
              "      fill: #D2E3FC;\n",
              "    }\n",
              "\n",
              "    [theme=dark] .colab-df-convert:hover {\n",
              "      background-color: #434B5C;\n",
              "      box-shadow: 0px 1px 3px 1px rgba(0, 0, 0, 0.15);\n",
              "      filter: drop-shadow(0px 1px 2px rgba(0, 0, 0, 0.3));\n",
              "      fill: #FFFFFF;\n",
              "    }\n",
              "  </style>\n",
              "\n",
              "    <script>\n",
              "      const buttonEl =\n",
              "        document.querySelector('#df-81739cbd-846a-49ef-86c3-2aae9b547fa5 button.colab-df-convert');\n",
              "      buttonEl.style.display =\n",
              "        google.colab.kernel.accessAllowed ? 'block' : 'none';\n",
              "\n",
              "      async function convertToInteractive(key) {\n",
              "        const element = document.querySelector('#df-81739cbd-846a-49ef-86c3-2aae9b547fa5');\n",
              "        const dataTable =\n",
              "          await google.colab.kernel.invokeFunction('convertToInteractive',\n",
              "                                                    [key], {});\n",
              "        if (!dataTable) return;\n",
              "\n",
              "        const docLinkHtml = 'Like what you see? Visit the ' +\n",
              "          '<a target=\"_blank\" href=https://colab.research.google.com/notebooks/data_table.ipynb>data table notebook</a>'\n",
              "          + ' to learn more about interactive tables.';\n",
              "        element.innerHTML = '';\n",
              "        dataTable['output_type'] = 'display_data';\n",
              "        await google.colab.output.renderOutput(dataTable, element);\n",
              "        const docLink = document.createElement('div');\n",
              "        docLink.innerHTML = docLinkHtml;\n",
              "        element.appendChild(docLink);\n",
              "      }\n",
              "    </script>\n",
              "  </div>\n",
              "\n",
              "\n",
              "    <div id=\"df-ba707fcf-cfeb-475a-b705-e8b6d8f61e00\">\n",
              "      <button class=\"colab-df-quickchart\" onclick=\"quickchart('df-ba707fcf-cfeb-475a-b705-e8b6d8f61e00')\"\n",
              "                title=\"Suggest charts\"\n",
              "                style=\"display:none;\">\n",
              "\n",
              "<svg xmlns=\"http://www.w3.org/2000/svg\" height=\"24px\"viewBox=\"0 0 24 24\"\n",
              "     width=\"24px\">\n",
              "    <g>\n",
              "        <path d=\"M19 3H5c-1.1 0-2 .9-2 2v14c0 1.1.9 2 2 2h14c1.1 0 2-.9 2-2V5c0-1.1-.9-2-2-2zM9 17H7v-7h2v7zm4 0h-2V7h2v10zm4 0h-2v-4h2v4z\"/>\n",
              "    </g>\n",
              "</svg>\n",
              "      </button>\n",
              "\n",
              "<style>\n",
              "  .colab-df-quickchart {\n",
              "      --bg-color: #E8F0FE;\n",
              "      --fill-color: #1967D2;\n",
              "      --hover-bg-color: #E2EBFA;\n",
              "      --hover-fill-color: #174EA6;\n",
              "      --disabled-fill-color: #AAA;\n",
              "      --disabled-bg-color: #DDD;\n",
              "  }\n",
              "\n",
              "  [theme=dark] .colab-df-quickchart {\n",
              "      --bg-color: #3B4455;\n",
              "      --fill-color: #D2E3FC;\n",
              "      --hover-bg-color: #434B5C;\n",
              "      --hover-fill-color: #FFFFFF;\n",
              "      --disabled-bg-color: #3B4455;\n",
              "      --disabled-fill-color: #666;\n",
              "  }\n",
              "\n",
              "  .colab-df-quickchart {\n",
              "    background-color: var(--bg-color);\n",
              "    border: none;\n",
              "    border-radius: 50%;\n",
              "    cursor: pointer;\n",
              "    display: none;\n",
              "    fill: var(--fill-color);\n",
              "    height: 32px;\n",
              "    padding: 0;\n",
              "    width: 32px;\n",
              "  }\n",
              "\n",
              "  .colab-df-quickchart:hover {\n",
              "    background-color: var(--hover-bg-color);\n",
              "    box-shadow: 0 1px 2px rgba(60, 64, 67, 0.3), 0 1px 3px 1px rgba(60, 64, 67, 0.15);\n",
              "    fill: var(--button-hover-fill-color);\n",
              "  }\n",
              "\n",
              "  .colab-df-quickchart-complete:disabled,\n",
              "  .colab-df-quickchart-complete:disabled:hover {\n",
              "    background-color: var(--disabled-bg-color);\n",
              "    fill: var(--disabled-fill-color);\n",
              "    box-shadow: none;\n",
              "  }\n",
              "\n",
              "  .colab-df-spinner {\n",
              "    border: 2px solid var(--fill-color);\n",
              "    border-color: transparent;\n",
              "    border-bottom-color: var(--fill-color);\n",
              "    animation:\n",
              "      spin 1s steps(1) infinite;\n",
              "  }\n",
              "\n",
              "  @keyframes spin {\n",
              "    0% {\n",
              "      border-color: transparent;\n",
              "      border-bottom-color: var(--fill-color);\n",
              "      border-left-color: var(--fill-color);\n",
              "    }\n",
              "    20% {\n",
              "      border-color: transparent;\n",
              "      border-left-color: var(--fill-color);\n",
              "      border-top-color: var(--fill-color);\n",
              "    }\n",
              "    30% {\n",
              "      border-color: transparent;\n",
              "      border-left-color: var(--fill-color);\n",
              "      border-top-color: var(--fill-color);\n",
              "      border-right-color: var(--fill-color);\n",
              "    }\n",
              "    40% {\n",
              "      border-color: transparent;\n",
              "      border-right-color: var(--fill-color);\n",
              "      border-top-color: var(--fill-color);\n",
              "    }\n",
              "    60% {\n",
              "      border-color: transparent;\n",
              "      border-right-color: var(--fill-color);\n",
              "    }\n",
              "    80% {\n",
              "      border-color: transparent;\n",
              "      border-right-color: var(--fill-color);\n",
              "      border-bottom-color: var(--fill-color);\n",
              "    }\n",
              "    90% {\n",
              "      border-color: transparent;\n",
              "      border-bottom-color: var(--fill-color);\n",
              "    }\n",
              "  }\n",
              "</style>\n",
              "\n",
              "      <script>\n",
              "        async function quickchart(key) {\n",
              "          const quickchartButtonEl =\n",
              "            document.querySelector('#' + key + ' button');\n",
              "          quickchartButtonEl.disabled = true;  // To prevent multiple clicks.\n",
              "          quickchartButtonEl.classList.add('colab-df-spinner');\n",
              "          try {\n",
              "            const charts = await google.colab.kernel.invokeFunction(\n",
              "                'suggestCharts', [key], {});\n",
              "          } catch (error) {\n",
              "            console.error('Error during call to suggestCharts:', error);\n",
              "          }\n",
              "          quickchartButtonEl.classList.remove('colab-df-spinner');\n",
              "          quickchartButtonEl.classList.add('colab-df-quickchart-complete');\n",
              "        }\n",
              "        (() => {\n",
              "          let quickchartButtonEl =\n",
              "            document.querySelector('#df-ba707fcf-cfeb-475a-b705-e8b6d8f61e00 button');\n",
              "          quickchartButtonEl.style.display =\n",
              "            google.colab.kernel.accessAllowed ? 'block' : 'none';\n",
              "        })();\n",
              "      </script>\n",
              "    </div>\n",
              "\n",
              "    </div>\n",
              "  </div>\n"
            ],
            "application/vnd.google.colaboratory.intrinsic+json": {
              "type": "dataframe",
              "variable_name": "df"
            }
          },
          "metadata": {},
          "execution_count": 8
        }
      ]
    },
    {
      "cell_type": "code",
      "source": [
        "# Convert datetime columns\n",
        "for c in [c for c in df.columns if 'date' in c or 'time' in c]:\n",
        "    try:\n",
        "        df[c] = pd.to_datetime(df[c], errors='coerce')\n",
        "    except: pass"
      ],
      "metadata": {
        "id": "nN13qEZx-nsj"
      },
      "execution_count": null,
      "outputs": []
    },
    {
      "cell_type": "code",
      "source": [
        "# Trim text\n",
        "for c in df.select_dtypes(include='object').columns:\n",
        "    df[c] = df[c].astype(str).str.strip()"
      ],
      "metadata": {
        "id": "_rmKV7Rp-snm"
      },
      "execution_count": null,
      "outputs": []
    },
    {
      "cell_type": "code",
      "source": [
        "# Fill missing ratings with median\n",
        "for col in ['driver_ratings','customer_rating']:\n",
        "    if col in df.columns:\n",
        "        df[col] = pd.to_numeric(df[col], errors='coerce')\n",
        "        df[col] = df[col].fillna(df[col].median())"
      ],
      "metadata": {
        "id": "TVbl6NQI-utI"
      },
      "execution_count": null,
      "outputs": []
    },
    {
      "cell_type": "code",
      "source": [
        "# Fill text defaults\n",
        "defaults = {'payment_method':'Unknown','cancellation_reason':'Not Provided','booking_status':'Unknown'}\n",
        "for k,v in defaults.items():\n",
        "    if k in df.columns: df[k] = df[k].fillna(v)"
      ],
      "metadata": {
        "id": "sV5CdDIF-wtw"
      },
      "execution_count": null,
      "outputs": []
    },
    {
      "cell_type": "code",
      "source": [
        "#checking null vLUES\n",
        "\n",
        "df.isnull().sum()"
      ],
      "metadata": {
        "colab": {
          "base_uri": "https://localhost:8080/",
          "height": 711
        },
        "id": "y9nQGDNx--cA",
        "outputId": "d9452b28-f2ae-4f5b-f6da-41e0ee2c1aef"
      },
      "execution_count": null,
      "outputs": [
        {
          "output_type": "execute_result",
          "data": {
            "text/plain": [
              "date                               0\n",
              "time                          103024\n",
              "booking_id                         0\n",
              "booking_status                     0\n",
              "customer_id                        0\n",
              "vehicle_type                       0\n",
              "pickup_location                    0\n",
              "drop_location                      0\n",
              "v_tat                          39057\n",
              "c_tat                          39057\n",
              "canceled_rides_by_customer         0\n",
              "canceled_rides_by_driver           0\n",
              "incomplete_rides                   0\n",
              "incomplete_rides_reason            0\n",
              "booking_value                      0\n",
              "payment_method                     0\n",
              "ride_distance                      0\n",
              "driver_ratings                     0\n",
              "customer_rating                    0\n",
              "vehicle_images                     0\n",
              "dtype: int64"
            ],
            "text/html": [
              "<div>\n",
              "<style scoped>\n",
              "    .dataframe tbody tr th:only-of-type {\n",
              "        vertical-align: middle;\n",
              "    }\n",
              "\n",
              "    .dataframe tbody tr th {\n",
              "        vertical-align: top;\n",
              "    }\n",
              "\n",
              "    .dataframe thead th {\n",
              "        text-align: right;\n",
              "    }\n",
              "</style>\n",
              "<table border=\"1\" class=\"dataframe\">\n",
              "  <thead>\n",
              "    <tr style=\"text-align: right;\">\n",
              "      <th></th>\n",
              "      <th>0</th>\n",
              "    </tr>\n",
              "  </thead>\n",
              "  <tbody>\n",
              "    <tr>\n",
              "      <th>date</th>\n",
              "      <td>0</td>\n",
              "    </tr>\n",
              "    <tr>\n",
              "      <th>time</th>\n",
              "      <td>103024</td>\n",
              "    </tr>\n",
              "    <tr>\n",
              "      <th>booking_id</th>\n",
              "      <td>0</td>\n",
              "    </tr>\n",
              "    <tr>\n",
              "      <th>booking_status</th>\n",
              "      <td>0</td>\n",
              "    </tr>\n",
              "    <tr>\n",
              "      <th>customer_id</th>\n",
              "      <td>0</td>\n",
              "    </tr>\n",
              "    <tr>\n",
              "      <th>vehicle_type</th>\n",
              "      <td>0</td>\n",
              "    </tr>\n",
              "    <tr>\n",
              "      <th>pickup_location</th>\n",
              "      <td>0</td>\n",
              "    </tr>\n",
              "    <tr>\n",
              "      <th>drop_location</th>\n",
              "      <td>0</td>\n",
              "    </tr>\n",
              "    <tr>\n",
              "      <th>v_tat</th>\n",
              "      <td>39057</td>\n",
              "    </tr>\n",
              "    <tr>\n",
              "      <th>c_tat</th>\n",
              "      <td>39057</td>\n",
              "    </tr>\n",
              "    <tr>\n",
              "      <th>canceled_rides_by_customer</th>\n",
              "      <td>0</td>\n",
              "    </tr>\n",
              "    <tr>\n",
              "      <th>canceled_rides_by_driver</th>\n",
              "      <td>0</td>\n",
              "    </tr>\n",
              "    <tr>\n",
              "      <th>incomplete_rides</th>\n",
              "      <td>0</td>\n",
              "    </tr>\n",
              "    <tr>\n",
              "      <th>incomplete_rides_reason</th>\n",
              "      <td>0</td>\n",
              "    </tr>\n",
              "    <tr>\n",
              "      <th>booking_value</th>\n",
              "      <td>0</td>\n",
              "    </tr>\n",
              "    <tr>\n",
              "      <th>payment_method</th>\n",
              "      <td>0</td>\n",
              "    </tr>\n",
              "    <tr>\n",
              "      <th>ride_distance</th>\n",
              "      <td>0</td>\n",
              "    </tr>\n",
              "    <tr>\n",
              "      <th>driver_ratings</th>\n",
              "      <td>0</td>\n",
              "    </tr>\n",
              "    <tr>\n",
              "      <th>customer_rating</th>\n",
              "      <td>0</td>\n",
              "    </tr>\n",
              "    <tr>\n",
              "      <th>vehicle_images</th>\n",
              "      <td>0</td>\n",
              "    </tr>\n",
              "  </tbody>\n",
              "</table>\n",
              "</div><br><label><b>dtype:</b> int64</label>"
            ]
          },
          "metadata": {},
          "execution_count": 15
        }
      ]
    },
    {
      "cell_type": "code",
      "source": [
        "#Handling time column\n",
        "\n",
        "df['time'] = df['time'].fillna('00:00:00')"
      ],
      "metadata": {
        "id": "xy3Qr71K_bpw"
      },
      "execution_count": null,
      "outputs": []
    },
    {
      "cell_type": "code",
      "source": [
        "#handling vtat and ctat columns\n",
        "\n",
        "df['v_tat'] = df['v_tat'].fillna(df['v_tat'].median())\n",
        "df['c_tat'] = df['c_tat'].fillna(df['c_tat'].median())"
      ],
      "metadata": {
        "id": "AJUrU0AG_fYd"
      },
      "execution_count": null,
      "outputs": []
    },
    {
      "cell_type": "code",
      "source": [
        "#final check null values\n",
        "\n",
        "df.isnull().sum()"
      ],
      "metadata": {
        "colab": {
          "base_uri": "https://localhost:8080/",
          "height": 711
        },
        "id": "-98VFqBV_mUS",
        "outputId": "532374f8-0b21-47b5-ef89-7d2724a20fc4"
      },
      "execution_count": null,
      "outputs": [
        {
          "output_type": "execute_result",
          "data": {
            "text/plain": [
              "date                          0\n",
              "time                          0\n",
              "booking_id                    0\n",
              "booking_status                0\n",
              "customer_id                   0\n",
              "vehicle_type                  0\n",
              "pickup_location               0\n",
              "drop_location                 0\n",
              "v_tat                         0\n",
              "c_tat                         0\n",
              "canceled_rides_by_customer    0\n",
              "canceled_rides_by_driver      0\n",
              "incomplete_rides              0\n",
              "incomplete_rides_reason       0\n",
              "booking_value                 0\n",
              "payment_method                0\n",
              "ride_distance                 0\n",
              "driver_ratings                0\n",
              "customer_rating               0\n",
              "vehicle_images                0\n",
              "dtype: int64"
            ],
            "text/html": [
              "<div>\n",
              "<style scoped>\n",
              "    .dataframe tbody tr th:only-of-type {\n",
              "        vertical-align: middle;\n",
              "    }\n",
              "\n",
              "    .dataframe tbody tr th {\n",
              "        vertical-align: top;\n",
              "    }\n",
              "\n",
              "    .dataframe thead th {\n",
              "        text-align: right;\n",
              "    }\n",
              "</style>\n",
              "<table border=\"1\" class=\"dataframe\">\n",
              "  <thead>\n",
              "    <tr style=\"text-align: right;\">\n",
              "      <th></th>\n",
              "      <th>0</th>\n",
              "    </tr>\n",
              "  </thead>\n",
              "  <tbody>\n",
              "    <tr>\n",
              "      <th>date</th>\n",
              "      <td>0</td>\n",
              "    </tr>\n",
              "    <tr>\n",
              "      <th>time</th>\n",
              "      <td>0</td>\n",
              "    </tr>\n",
              "    <tr>\n",
              "      <th>booking_id</th>\n",
              "      <td>0</td>\n",
              "    </tr>\n",
              "    <tr>\n",
              "      <th>booking_status</th>\n",
              "      <td>0</td>\n",
              "    </tr>\n",
              "    <tr>\n",
              "      <th>customer_id</th>\n",
              "      <td>0</td>\n",
              "    </tr>\n",
              "    <tr>\n",
              "      <th>vehicle_type</th>\n",
              "      <td>0</td>\n",
              "    </tr>\n",
              "    <tr>\n",
              "      <th>pickup_location</th>\n",
              "      <td>0</td>\n",
              "    </tr>\n",
              "    <tr>\n",
              "      <th>drop_location</th>\n",
              "      <td>0</td>\n",
              "    </tr>\n",
              "    <tr>\n",
              "      <th>v_tat</th>\n",
              "      <td>0</td>\n",
              "    </tr>\n",
              "    <tr>\n",
              "      <th>c_tat</th>\n",
              "      <td>0</td>\n",
              "    </tr>\n",
              "    <tr>\n",
              "      <th>canceled_rides_by_customer</th>\n",
              "      <td>0</td>\n",
              "    </tr>\n",
              "    <tr>\n",
              "      <th>canceled_rides_by_driver</th>\n",
              "      <td>0</td>\n",
              "    </tr>\n",
              "    <tr>\n",
              "      <th>incomplete_rides</th>\n",
              "      <td>0</td>\n",
              "    </tr>\n",
              "    <tr>\n",
              "      <th>incomplete_rides_reason</th>\n",
              "      <td>0</td>\n",
              "    </tr>\n",
              "    <tr>\n",
              "      <th>booking_value</th>\n",
              "      <td>0</td>\n",
              "    </tr>\n",
              "    <tr>\n",
              "      <th>payment_method</th>\n",
              "      <td>0</td>\n",
              "    </tr>\n",
              "    <tr>\n",
              "      <th>ride_distance</th>\n",
              "      <td>0</td>\n",
              "    </tr>\n",
              "    <tr>\n",
              "      <th>driver_ratings</th>\n",
              "      <td>0</td>\n",
              "    </tr>\n",
              "    <tr>\n",
              "      <th>customer_rating</th>\n",
              "      <td>0</td>\n",
              "    </tr>\n",
              "    <tr>\n",
              "      <th>vehicle_images</th>\n",
              "      <td>0</td>\n",
              "    </tr>\n",
              "  </tbody>\n",
              "</table>\n",
              "</div><br><label><b>dtype:</b> int64</label>"
            ]
          },
          "metadata": {},
          "execution_count": 18
        }
      ]
    },
    {
      "cell_type": "markdown",
      "source": [
        "# **Handling duplicates**"
      ],
      "metadata": {
        "id": "Ywsy4NHs-zJe"
      }
    },
    {
      "cell_type": "code",
      "source": [
        "df = df.drop_duplicates()\n"
      ],
      "metadata": {
        "id": "XptEAaW6-ynF"
      },
      "execution_count": null,
      "outputs": []
    },
    {
      "cell_type": "code",
      "source": [
        "#info about dataframe\n",
        "\n",
        "df.info()"
      ],
      "metadata": {
        "colab": {
          "base_uri": "https://localhost:8080/"
        },
        "id": "HCKyGdvZ-3ON",
        "outputId": "ca83ea54-25fb-43bf-8c1d-9ae14ce0a481"
      },
      "execution_count": null,
      "outputs": [
        {
          "output_type": "stream",
          "name": "stdout",
          "text": [
            "<class 'pandas.core.frame.DataFrame'>\n",
            "RangeIndex: 103024 entries, 0 to 103023\n",
            "Data columns (total 20 columns):\n",
            " #   Column                      Non-Null Count   Dtype         \n",
            "---  ------                      --------------   -----         \n",
            " 0   date                        103024 non-null  datetime64[ns]\n",
            " 1   time                        0 non-null       datetime64[ns]\n",
            " 2   booking_id                  103024 non-null  object        \n",
            " 3   booking_status              103024 non-null  object        \n",
            " 4   customer_id                 103024 non-null  object        \n",
            " 5   vehicle_type                103024 non-null  object        \n",
            " 6   pickup_location             103024 non-null  object        \n",
            " 7   drop_location               103024 non-null  object        \n",
            " 8   v_tat                       63967 non-null   float64       \n",
            " 9   c_tat                       63967 non-null   float64       \n",
            " 10  canceled_rides_by_customer  103024 non-null  object        \n",
            " 11  canceled_rides_by_driver    103024 non-null  object        \n",
            " 12  incomplete_rides            103024 non-null  object        \n",
            " 13  incomplete_rides_reason     103024 non-null  object        \n",
            " 14  booking_value               103024 non-null  int64         \n",
            " 15  payment_method              103024 non-null  object        \n",
            " 16  ride_distance               103024 non-null  int64         \n",
            " 17  driver_ratings              103024 non-null  float64       \n",
            " 18  customer_rating             103024 non-null  float64       \n",
            " 19  vehicle_images              103024 non-null  object        \n",
            "dtypes: datetime64[ns](2), float64(4), int64(2), object(12)\n",
            "memory usage: 15.7+ MB\n"
          ]
        }
      ]
    },
    {
      "cell_type": "code",
      "source": [
        "#Save clean dataframe\n",
        "\n",
        "df.to_csv(\"/content/ola_clean.csv\", index=False)"
      ],
      "metadata": {
        "id": "Zac_OUZEFHZA"
      },
      "execution_count": null,
      "outputs": []
    },
    {
      "cell_type": "markdown",
      "source": [
        "# **Data Visualization**"
      ],
      "metadata": {
        "id": "tbS4Fsbu_sV-"
      }
    },
    {
      "cell_type": "markdown",
      "source": [
        "# **Chart 1-**"
      ],
      "metadata": {
        "id": "dLOH0e1eBfiI"
      }
    },
    {
      "cell_type": "code",
      "source": [
        "#Knowing the booking status wise distribution\n",
        "\n",
        "if 'booking_status' in df.columns:\n",
        "    plt.figure(figsize=(8,4))\n",
        "    sns.countplot(x='booking_status', data=df, order=df['booking_status'].value_counts().index)\n",
        "    plt.title(\"Booking Status Distribution\")\n",
        "    plt.show()"
      ],
      "metadata": {
        "colab": {
          "base_uri": "https://localhost:8080/",
          "height": 410
        },
        "id": "HZwrbsH1_uJR",
        "outputId": "c8529575-0b88-4aaa-ba19-8b73facf21d1"
      },
      "execution_count": null,
      "outputs": [
        {
          "output_type": "display_data",
          "data": {
            "text/plain": [
              "<Figure size 800x400 with 1 Axes>"
            ],
            "image/png": "[encoded data removed]"
          },
          "metadata": {}
        }
      ]
    },
    {
      "cell_type": "markdown",
      "source": [
        "# **Findings**-\n",
        "\n",
        "Most rides are successful, while cancellations are mainly driver-led, followed by customer cancellations and “driver not found” cases."
      ],
      "metadata": {
        "id": "YqYAdtoDAqf_"
      }
    },
    {
      "cell_type": "markdown",
      "source": [
        "# **Chart 2-**"
      ],
      "metadata": {
        "id": "6fngn-GMBihv"
      }
    },
    {
      "cell_type": "code",
      "source": [
        "# Vehicle Type Breakdown\n",
        "if 'vehicle_type' in df.columns:\n",
        "    plt.figure(figsize=(6,4))\n",
        "    df['vehicle_type'].value_counts().plot(kind='bar')\n",
        "    plt.title(\"Rides by Vehicle Type\")\n",
        "    plt.ylabel(\"Count\")\n",
        "    plt.show()"
      ],
      "metadata": {
        "colab": {
          "base_uri": "https://localhost:8080/",
          "height": 484
        },
        "id": "8RjbBlmIABdG",
        "outputId": "3815f4e6-f2d1-4b0e-af48-d8308a4229cb"
      },
      "execution_count": null,
      "outputs": [
        {
          "output_type": "display_data",
          "data": {
            "text/plain": [
              "<Figure size 600x400 with 1 Axes>"
            ],
            "image/png": "[encoded data removed]"
          },
          "metadata": {}
        }
      ]
    },
    {
      "cell_type": "markdown",
      "source": [
        "# **Findings-**\n",
        "\n",
        "All vehicle categories (Sedan, SUV, Mini, Bike, Auto, eBike, etc.) have almost equal ride counts, showing balanced usage across types."
      ],
      "metadata": {
        "id": "wTOvbBXuAu2f"
      }
    },
    {
      "cell_type": "markdown",
      "source": [
        "# **Chart 3-**"
      ],
      "metadata": {
        "id": "ltys-uHFBmyw"
      }
    },
    {
      "cell_type": "code",
      "source": [
        "# Average Distance per Vehicle\n",
        "if {'vehicle_type','ride_distance'}.issubset(df.columns):\n",
        "    plt.figure(figsize=(6,4))\n",
        "    df.groupby('vehicle_type')['ride_distance'].mean().sort_values().plot(kind='barh')\n",
        "    plt.title(\"Average Distance per Vehicle\")\n",
        "    plt.xlabel(\"Avg Distance\")\n",
        "    plt.show()"
      ],
      "metadata": {
        "colab": {
          "base_uri": "https://localhost:8080/",
          "height": 410
        },
        "id": "hy6AeaNBAL7I",
        "outputId": "6b609ff9-a2c1-4f60-a1c4-7745b9309c72"
      },
      "execution_count": null,
      "outputs": [
        {
          "output_type": "display_data",
          "data": {
            "text/plain": [
              "<Figure size 600x400 with 1 Axes>"
            ],
            "image/png": "[encoded data removed]"
          },
          "metadata": {}
        }
      ]
    },
    {
      "cell_type": "markdown",
      "source": [
        "# **Findings**-\n",
        "\n",
        "Prime Sedan, Prime SUV, Bike, and eBike have longer average ride distances, whereas Auto rides tend to be shorter trips."
      ],
      "metadata": {
        "id": "VZsEA1znAyyW"
      }
    },
    {
      "cell_type": "markdown",
      "source": [
        "# **Chart 4-**"
      ],
      "metadata": {
        "id": "vBjJaXEXBoeJ"
      }
    },
    {
      "cell_type": "code",
      "source": [
        "# Ratings Distribution\n",
        "for col in ['customer_rating','driver_ratings']:\n",
        "    if col in df.columns:\n",
        "        plt.figure(figsize=(6,4))\n",
        "        sns.histplot(df[col].dropna(), bins=20, kde=True)\n",
        "        plt.title(f\"{col.replace('_',' ').title()} Distribution\")\n",
        "        plt.show()"
      ],
      "metadata": {
        "colab": {
          "base_uri": "https://localhost:8080/",
          "height": 803
        },
        "id": "cMv6zzyhAQEC",
        "outputId": "4cdd4787-73e1-46a5-b30c-82894c260e0d"
      },
      "execution_count": null,
      "outputs": [
        {
          "output_type": "display_data",
          "data": {
            "text/plain": [
              "<Figure size 600x400 with 1 Axes>"
            ],
            "image/png": "[encoded data removed]"
          },
          "metadata": {}
        },
        {
          "output_type": "display_data",
          "data": {
            "text/plain": [
              "<Figure size 600x400 with 1 Axes>"
            ],
            "image/png": "[encoded data removed]"
          },
          "metadata": {}
        }
      ]
    },
    {
      "cell_type": "markdown",
      "source": [
        "# **Findings-**\n",
        "\n",
        "Both customers and drivers mostly give ratings clustered around 4.0–4.2, indicating generally satisfactory ride experiences."
      ],
      "metadata": {
        "id": "tckdoC_CA8hl"
      }
    },
    {
      "cell_type": "markdown",
      "source": [
        "# **Chart 5-**"
      ],
      "metadata": {
        "id": "pWK9bS9YBcFe"
      }
    },
    {
      "cell_type": "code",
      "source": [
        "#Ride volume over time\n",
        "\n",
        "if 'date' in df.columns:\n",
        "    plt.figure(figsize=(10,5))\n",
        "    df.groupby('date').size().plot(kind='line')\n",
        "    plt.title(\"Rides Over Time\")\n",
        "    plt.xlabel(\"Date\")\n",
        "    plt.ylabel(\"Number of Rides\")\n",
        "    plt.show()"
      ],
      "metadata": {
        "colab": {
          "base_uri": "https://localhost:8080/",
          "height": 480
        },
        "id": "GoZI4yjJBrBs",
        "outputId": "719f7f9f-50f6-46b4-e311-ff2fcc4a1736"
      },
      "execution_count": null,
      "outputs": [
        {
          "output_type": "display_data",
          "data": {
            "text/plain": [
              "<Figure size 1000x500 with 1 Axes>"
            ],
            "image/png": "[encoded data removed]"
          },
          "metadata": {}
        }
      ]
    },
    {
      "cell_type": "markdown",
      "source": [
        "# **Findings-**\n",
        "\n",
        "Ride volume fluctuates over time, showing peaks on certain days that may reflect higher demand."
      ],
      "metadata": {
        "id": "Yrw6wCYnB1KP"
      }
    },
    {
      "cell_type": "markdown",
      "source": [
        "# **Chart 6-**"
      ],
      "metadata": {
        "id": "gqvSPu7HB3Gu"
      }
    },
    {
      "cell_type": "code",
      "source": [
        "#Payment method distribution\n",
        "\n",
        "if 'payment_method' in df.columns:\n",
        "    df['payment_method'].value_counts().plot(kind='pie', autopct='%1.1f%%', figsize=(6,6))\n",
        "    plt.title(\"Payment Method Distribution\")\n",
        "    plt.ylabel(\"\")\n",
        "    plt.show()"
      ],
      "metadata": {
        "colab": {
          "base_uri": "https://localhost:8080/",
          "height": 521
        },
        "id": "WEtpmrn5B6Am",
        "outputId": "bd7c1bbb-f7af-4e5d-8722-cb69d7dac34e"
      },
      "execution_count": null,
      "outputs": [
        {
          "output_type": "display_data",
          "data": {
            "text/plain": [
              "<Figure size 600x600 with 1 Axes>"
            ],
            "image/png": "[encoded data removed]"
          },
          "metadata": {}
        }
      ]
    },
    {
      "cell_type": "markdown",
      "source": [
        "# **Findings-**\n",
        "\n"
      ],
      "metadata": {
        "id": "2IbFYqNJCzS4"
      }
    },
    {
      "cell_type": "markdown",
      "source": [
        "# **Chart 7-**"
      ],
      "metadata": {
        "id": "p7apECcNCYT_"
      }
    },
    {
      "cell_type": "code",
      "source": [
        "#Ride distance vs booking value\n",
        "\n",
        "df_plot['distance_bucket'] = pd.cut(df_plot['ride_distance'], bins=[0,5,10,20,30,40,50])\n",
        "\n",
        "plt.figure(figsize=(10,6))\n",
        "sns.boxplot(x='distance_bucket', y='booking_value', data=df_plot)\n",
        "plt.title(\"Booking Value Distribution Across Distance Buckets\")\n",
        "plt.xlabel(\"Ride Distance Buckets (km)\")\n",
        "plt.ylabel(\"Booking Value\")\n",
        "plt.show()\n"
      ],
      "metadata": {
        "colab": {
          "base_uri": "https://localhost:8080/",
          "height": 564
        },
        "id": "K1rzIOuUClHQ",
        "outputId": "afb6c1f5-6c5e-482d-e65e-d545250cb242"
      },
      "execution_count": null,
      "outputs": [
        {
          "output_type": "display_data",
          "data": {
            "text/plain": [
              "<Figure size 1000x600 with 1 Axes>"
            ],
            "image/png": "[encoded data removed]"
          },
          "metadata": {}
        }
      ]
    },
    {
      "cell_type": "markdown",
      "source": [
        "# **Findings-**\n",
        "\n",
        "Booking values increase slightly with longer ride distances, but every distance group shows many high-value outliers, suggesting surge pricing or premium bookings across all trip lengths."
      ],
      "metadata": {
        "id": "FBV4dI1oD-N-"
      }
    },
    {
      "cell_type": "markdown",
      "source": [
        "# **Conclusion**\n",
        "\n",
        "The analysis of the OLA ride dataset provides valuable insights into customer behavior, ride patterns, cancellations, and payment preferences. The findings show that the majority of rides are successfully completed, but cancellations — especially by drivers — remain a challenge. Vehicle usage is evenly distributed, though longer trips are mostly covered by premium vehicles like Prime Sedan and SUV.\n",
        "\n",
        "1. Most rides end successfully, reflecting strong platform reliability.\n",
        "\n",
        "2. Driver-led cancellations are higher than customer cancellations.\n",
        "\n",
        "3. \"Driver not found\" indicates gaps in driver supply during some periods.\n",
        "\n",
        "4. All vehicle types are used almost equally, showing a balanced customer base.\n",
        "\n",
        "5. Premium vehicles (Sedan, SUV) are used for longer average distances.\n",
        "\n",
        "6. Autos are primarily chosen for short-distance rides.\n",
        "\n",
        "7. UPI and cash dominate as preferred payment methods.\n",
        "\n",
        "8. Customer and driver ratings mostly center around 4.0, suggesting overall satisfaction.\n",
        "\n",
        "9. Ride distance and fare are strongly correlated, validating pricing models.\n",
        "\n",
        "10. Outliers in fare vs. distance indicate possible surge pricing or data quality issues."
      ],
      "metadata": {
        "id": "TYBu73yoEVKn"
      }
    },
    {
      "cell_type": "markdown",
      "source": [
        "# **Recommendations**\n",
        "\n",
        "1. Reduce driver cancellations by introducing stricter policies and better incentives.\n",
        "\n",
        "2. Allocate more drivers to high-demand zones to minimize “driver not found” cases.\n",
        "\n",
        "3. Strengthen short-trip efficiency in Auto bookings to maintain customer trust.\n",
        "\n",
        "4. Encourage digital payments by offering rewards for UPI or wallet transactions.\n",
        "\n",
        "5. Investigate and address fare-distance outliers to ensure fair pricing.\n",
        "\n",
        "6. Launch recognition programs for consistently high-rated drivers.\n",
        "\n",
        "7. Build customer loyalty programs for frequent riders across different vehicle categories.\n",
        "\n",
        "8. Use ride time analysis to allocate drivers during peak demand hours.\n",
        "\n",
        "9. Increase transparency around cancellation reasons for better customer communication.\n",
        "\n",
        "10. Promote green mobility by incentivizing eBike and EV rides."
      ],
      "metadata": {
        "id": "U8t2HpG2Etxx"
      }
    }
  ]
}